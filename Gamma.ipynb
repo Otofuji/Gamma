{
 "cells": [
  {
   "cell_type": "code",
   "execution_count": 4,
   "metadata": {
    "collapsed": false
   },
   "outputs": [
    {
     "ename": "NameError",
     "evalue": "name 'np' is not defined",
     "output_type": "error",
     "traceback": [
      "\u001b[1;31m---------------------------------------------------------------------------\u001b[0m",
      "\u001b[1;31mNameError\u001b[0m                                 Traceback (most recent call last)",
      "\u001b[1;32m<ipython-input-4-3770822f84f5>\u001b[0m in \u001b[0;36m<module>\u001b[1;34m()\u001b[0m\n\u001b[0;32m      6\u001b[0m \u001b[0ma\u001b[0m \u001b[1;33m=\u001b[0m \u001b[0mpd\u001b[0m\u001b[1;33m.\u001b[0m\u001b[0mread_excel\u001b[0m\u001b[1;33m(\u001b[0m\u001b[1;34m\"FastFood.xlsx\"\u001b[0m\u001b[1;33m)\u001b[0m\u001b[1;33m\u001b[0m\u001b[0m\n\u001b[0;32m      7\u001b[0m \u001b[0mmean\u001b[0m\u001b[1;33m,\u001b[0m \u001b[0mvar\u001b[0m\u001b[1;33m,\u001b[0m \u001b[0mskew\u001b[0m\u001b[1;33m,\u001b[0m \u001b[0mkurt\u001b[0m \u001b[1;33m=\u001b[0m \u001b[0mgamma\u001b[0m\u001b[1;33m.\u001b[0m\u001b[0mstats\u001b[0m\u001b[1;33m(\u001b[0m\u001b[0ma\u001b[0m\u001b[1;33m,\u001b[0m\u001b[0mmoments\u001b[0m\u001b[1;33m=\u001b[0m\u001b[1;34m\"mvsk\"\u001b[0m\u001b[1;33m)\u001b[0m\u001b[1;33m\u001b[0m\u001b[0m\n\u001b[1;32m----> 8\u001b[1;33m x = np.linspace(gamma.ppf(0.01,a),\n\u001b[0m\u001b[0;32m      9\u001b[0m                 gamma.ppf(0.99,a),100)\n\u001b[0;32m     10\u001b[0m ax.plot(x,gamma.pdf(x,a),\n",
      "\u001b[1;31mNameError\u001b[0m: name 'np' is not defined"
     ]
    },
    {
     "data": {
      "image/png": "[encoded data removed]",
      "text/plain": [
       "<matplotlib.figure.Figure at 0x9319d30>"
      ]
     },
     "metadata": {},
     "output_type": "display_data"
    }
   ],
   "source": [
    "import pandas as pd\n",
    "import matplotlib.pyplot as plt\n",
    "from scipy.stats import gamma\n",
    "%matplotlib inline\n",
    "fig, ax = plt.subplots(1,1)\n",
    "a = pd.read_excel(\"FastFood.xlsx\")\n",
    "mean, var, skew, kurt = gamma.stats(a,moments=\"mvsk\")\n",
    "x = np.linspace(gamma.ppf(0.01,a),\n",
    "                gamma.ppf(0.99,a),100)\n",
    "ax.plot(x,gamma.pdf(x,a),\n",
    "        \"r-\",lw=5,alpha=0.6,label=\"gamma fdp\")\n",
    "\n",
    "#Exercício 2.1: mesmo após inúmeras tentativas e buscas na documentação do\n",
    "#Scipy e até mesmo no Stack Overflow, não conseguimos fazer isto funcionar..."
   ]
  },
  {
   "cell_type": "code",
   "execution_count": null,
   "metadata": {
    "collapsed": true
   },
   "outputs": [],
   "source": [
    "\"\"\"\n",
    "Exercício 2.2: a forma analítica da distribuição é\n",
    "f(x) = (b^-a . x^a-1 . e^-x/b)/r(a) para x>0; 0 caso contrário.\n",
    "\"\"\""
   ]
  },
  {
   "cell_type": "code",
   "execution_count": null,
   "metadata": {
    "collapsed": true
   },
   "outputs": [],
   "source": [
    "\"\"\"\n",
    "Exercício 2.3: beta, alpha e a integral da função gamma completa\n",
    "\"\"\""
   ]
  },
  {
   "cell_type": "code",
   "execution_count": null,
   "metadata": {
    "collapsed": true
   },
   "outputs": [],
   "source": [
    "\"\"\"\n",
    "Exercício 2.4: a média é definido por a.b e a variância é definida por a.b^2\n",
    "\"\"\""
   ]
  },
  {
   "cell_type": "code",
   "execution_count": null,
   "metadata": {
    "collapsed": true
   },
   "outputs": [],
   "source": [
    "\"\"\"\n",
    "Exercício 2.5: \"Devido à sua flexibilidade, (as funções gamma) modelam os tempos\n",
    "entre ocorrências sucessivas de eventos, duração de eventos, tempo entre falhas\n",
    "sucessivas etc.\" - in CHWIF & MEDINA. Modelagem e simulação de eventos discretos, \n",
    "teoria e aplicações, 3ª edição. \n",
    "\"\"\""
   ]
  },
  {
   "cell_type": "code",
   "execution_count": null,
   "metadata": {
    "collapsed": false
   },
   "outputs": [],
   "source": [
    "\"\"\"\n",
    "Exercício 2.6: Sim, pois podem ajudar a, por exemplo, inferir o tempo entre \n",
    "falhas sucessivas.\n",
    "\"\"\""
   ]
  },
  {
   "cell_type": "code",
   "execution_count": null,
   "metadata": {
    "collapsed": true
   },
   "outputs": [],
   "source": [
    "\"\"\"\n",
    "RESPOSTAS IPYTHON NOTEBOOK\n",
    "\n",
    "Considerando os gráficos anteriores, descreva se há indícios de concordância entre modelo teórico e dados (amostra simulada). Note que seus argumentos devem ser respaldados em cada resultado gráfico.\n",
    "R: Sim, há indícios! Os gráficos possuem uma concordância, portanto o modelo teórico é adequado. A linha continua é bissetriz, e notamos que os pontos estão bem acomodados. Indicando que os valores teóricos e práticos têm alto grau de concordância, portanto, o modelo exponencial é adequado. \n",
    "\n",
    "Qual o % de lojas na amostra que demoram mais do que um segundo para abrir o site? E qual a probabilidade desse resultado acontecer? Esses resultados deveriam ser iguais? Por quê?\n",
    "R: Olhando o gráfico podemos perceber que algo em torno de 60% das lojas tem um site que demora mais de 1 segundo para abrir. A probabilidade é muito próxima já que os valores aferidos são bem próximos (quase fiéis) ao modelo exponencial. Os resultados tendem a ser muito próximos, mas iguais, muito pouco provável. \n",
    "\n",
    "Na prática, qual a necessidade de um modelo probabilístico já que se têm os dados observados?\n",
    "R: Os dados observados são o melhor modelo, pois são muito confiáveis. Mas o modelo (no caso exponencial) é importante para você conseguir ter uma noção de parâmetros. O gráfico baseado nos dados aferidos possui uma característica exponencial, isso é facilmente percebível apenas olhando para o comportamento do gráfico. Você usa o modelo exponencial para justificar que os dados possuem uma característica exponencial, mediante uma comparação. O que de fato é muito útil, caso se esteja fazendo uma validação de um estudo.    \n",
    "\"\"\""
   ]
  }
 ],
 "metadata": {
  "kernelspec": {
   "display_name": "Python 3",
   "language": "python",
   "name": "python3"
  },
  "language_info": {
   "codemirror_mode": {
    "name": "ipython",
    "version": 3
   },
   "file_extension": ".py",
   "mimetype": "text/x-python",
   "name": "python",
   "nbconvert_exporter": "python",
   "pygments_lexer": "ipython3",
   "version": "3.4.3"
  }
 },
 "nbformat": 4,
 "nbformat_minor": 0
}
